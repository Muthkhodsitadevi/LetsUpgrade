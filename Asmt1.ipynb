{
  "nbformat": 4,
  "nbformat_minor": 0,
  "metadata": {
    "colab": {
      "name": "Asmt1.ipynb",
      "provenance": [],
      "collapsed_sections": []
    },
    "kernelspec": {
      "name": "python3",
      "display_name": "Python 3"
    }
  },
  "cells": [
    {
      "cell_type": "markdown",
      "metadata": {
        "id": "rTaJp7rHk1oM"
      },
      "source": [
        "Assignment 1"
      ]
    },
    {
      "cell_type": "markdown",
      "metadata": {
        "id": "gNoEai2Jk7Qc"
      },
      "source": [
        "Ans 1: B. RAINBOW"
      ]
    },
    {
      "cell_type": "code",
      "metadata": {
        "id": "oqg-MTnHk5qj",
        "outputId": "dbebac6b-b8d4-4a4c-9566-32a42d00e558",
        "colab": {
          "base_uri": "https://localhost:8080/"
        }
      },
      "source": [
        "# Ans 2:\n",
        "print(\"LETS UPGRADE\")"
      ],
      "execution_count": 1,
      "outputs": [
        {
          "output_type": "stream",
          "text": [
            "LETS UPGRADE\n"
          ],
          "name": "stdout"
        }
      ]
    },
    {
      "cell_type": "code",
      "metadata": {
        "id": "R7vFpavalG-z",
        "outputId": "c5305f48-e066-4a7f-a7ed-c9e6849ad5e6",
        "colab": {
          "base_uri": "https://localhost:8080/"
        }
      },
      "source": [
        "# Ans 3:\n",
        "cp = int(input())\n",
        "sp = int(input())\n",
        "if cp > sp:\n",
        "  print(\"Loss\")\n",
        "elif sp > cp:\n",
        "  print(\"Profit\")\n",
        "else:\n",
        "  print(\"Neither\")"
      ],
      "execution_count": 2,
      "outputs": [
        {
          "output_type": "stream",
          "text": [
            "20\n",
            "30\n",
            "Profit\n"
          ],
          "name": "stdout"
        }
      ]
    },
    {
      "cell_type": "code",
      "metadata": {
        "id": "b7FECuc7lprm",
        "outputId": "ea939798-4b32-4a7d-b63b-50123efb9dd1",
        "colab": {
          "base_uri": "https://localhost:8080/"
        }
      },
      "source": [
        "# Ans 4:\n",
        "euro = int(input())\n",
        "print(euro*80)"
      ],
      "execution_count": 4,
      "outputs": [
        {
          "output_type": "stream",
          "text": [
            "20\n",
            "1600\n"
          ],
          "name": "stdout"
        }
      ]
    },
    {
      "cell_type": "code",
      "metadata": {
        "id": "sL8wmVyFmDZ9"
      },
      "source": [
        ""
      ],
      "execution_count": null,
      "outputs": []
    }
  ]
}