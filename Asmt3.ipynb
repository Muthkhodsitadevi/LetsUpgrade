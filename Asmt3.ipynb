{
  "nbformat": 4,
  "nbformat_minor": 0,
  "metadata": {
    "colab": {
      "name": "Asmt3.ipynb",
      "provenance": [],
      "collapsed_sections": []
    },
    "kernelspec": {
      "name": "python3",
      "display_name": "Python 3"
    }
  },
  "cells": [
    {
      "cell_type": "markdown",
      "metadata": {
        "id": "rTaJp7rHk1oM"
      },
      "source": [
        "Assignment 3"
      ]
    },
    {
      "cell_type": "code",
      "metadata": {
        "id": "dVE0Nfs0WtuP"
      },
      "source": [
        "import numpy as np"
      ],
      "execution_count": 1,
      "outputs": []
    },
    {
      "cell_type": "code",
      "metadata": {
        "id": "bA3QHwf0mxQA",
        "outputId": "8c32af29-4f12-4f19-c067-bda50d1f5ed8",
        "colab": {
          "base_uri": "https://localhost:8080/"
        }
      },
      "source": [
        "# Ans 1:\n",
        "arr = np.array(range(2,51,3))\n",
        "arr"
      ],
      "execution_count": 2,
      "outputs": [
        {
          "output_type": "execute_result",
          "data": {
            "text/plain": [
              "array([ 2,  5,  8, 11, 14, 17, 20, 23, 26, 29, 32, 35, 38, 41, 44, 47, 50])"
            ]
          },
          "metadata": {
            "tags": []
          },
          "execution_count": 2
        }
      ]
    },
    {
      "cell_type": "code",
      "metadata": {
        "id": "ze6uNB2RWeDa",
        "outputId": "5d269d15-239e-4bc5-d548-590438b59d27",
        "colab": {
          "base_uri": "https://localhost:8080/"
        }
      },
      "source": [
        "# Ans 2:\n",
        "#take 5 user input and covert to np arrays\n",
        "user_inp = np.array(list(map(int,input().split()[:5])))\n",
        "user_inp2 = np.array(list(map(int,input().split()[:5])))\n",
        "#concatenate\n",
        "arr = np.concatenate( (user_inp,user_inp2) )\n",
        "print(arr)\n",
        "arr.sort()\n",
        "print(arr)"
      ],
      "execution_count": 3,
      "outputs": [
        {
          "output_type": "stream",
          "text": [
            "5 7 8 9 6 1 2\n",
            "3 5 7 9 1 6 8\n",
            "[5 7 8 9 6 3 5 7 9 1]\n",
            "[1 3 5 5 6 7 7 8 9 9]\n"
          ],
          "name": "stdout"
        }
      ]
    },
    {
      "cell_type": "code",
      "metadata": {
        "id": "R7vFpavalG-z",
        "outputId": "fac87779-e7a8-4f5b-a87f-9baa8f7e9445",
        "colab": {
          "base_uri": "https://localhost:8080/"
        }
      },
      "source": [
        "# Ans 3:\n",
        "arr = np.arange(24).reshape(4,6)\n",
        "print(arr.shape)\n",
        "print(arr.size)"
      ],
      "execution_count": 4,
      "outputs": [
        {
          "output_type": "stream",
          "text": [
            "(4, 6)\n",
            "24\n"
          ],
          "name": "stdout"
        }
      ]
    },
    {
      "cell_type": "code",
      "metadata": {
        "id": "b7FECuc7lprm",
        "outputId": "82bea3c1-e9a5-4430-b689-5da025d0df7e",
        "colab": {
          "base_uri": "https://localhost:8080/"
        }
      },
      "source": [
        "# Ans 4:\n",
        "arr = np.arange(7,12)\n",
        "print(arr)\n",
        "print(arr.shape)\n",
        "print()\n",
        "arr = np.expand_dims(arr,1)\n",
        "print(arr)\n",
        "print(arr.shape)"
      ],
      "execution_count": 5,
      "outputs": [
        {
          "output_type": "stream",
          "text": [
            "[ 7  8  9 10 11]\n",
            "(5,)\n",
            "\n",
            "[[ 7]\n",
            " [ 8]\n",
            " [ 9]\n",
            " [10]\n",
            " [11]]\n",
            "(5, 1)\n"
          ],
          "name": "stdout"
        }
      ]
    },
    {
      "cell_type": "code",
      "metadata": {
        "id": "qnzddLyDruwe",
        "outputId": "e62f899a-aba7-4f4f-dbc3-2e338af47858",
        "colab": {
          "base_uri": "https://localhost:8080/"
        }
      },
      "source": [
        "# Ans 5:\n",
        "a = np.array([[2, 3], [5, 6]])\n",
        "b = np.array([[400,7], [800,9]])\n",
        "print(a, end = '\\n \\n')\n",
        "print(b, end = '\\n \\n')\n",
        "#vertical stack\n",
        "print(np.vstack( (a,b) ))\n",
        "print()\n",
        "#horizontal stack\n",
        "print(np.hstack( (a,b) ))"
      ],
      "execution_count": 6,
      "outputs": [
        {
          "output_type": "stream",
          "text": [
            "[[2 3]\n",
            " [5 6]]\n",
            " \n",
            "[[400   7]\n",
            " [800   9]]\n",
            " \n",
            "[[  2   3]\n",
            " [  5   6]\n",
            " [400   7]\n",
            " [800   9]]\n",
            "\n",
            "[[  2   3 400   7]\n",
            " [  5   6 800   9]]\n"
          ],
          "name": "stdout"
        }
      ]
    },
    {
      "cell_type": "code",
      "metadata": {
        "id": "qMf_jNgIWknU",
        "outputId": "112c4b83-507f-416d-d805-53879c1d8e58",
        "colab": {
          "base_uri": "https://localhost:8080/"
        }
      },
      "source": [
        "# Ans 6:\n",
        "arr = np.array([1,2,3,4,4,3,7,8,8,8,7,3,1])\n",
        "(unique, counts) = np.unique(arr, return_counts=True)\n",
        "np.asarray((unique, counts)).T"
      ],
      "execution_count": 7,
      "outputs": [
        {
          "output_type": "execute_result",
          "data": {
            "text/plain": [
              "array([[1, 2],\n",
              "       [2, 1],\n",
              "       [3, 3],\n",
              "       [4, 2],\n",
              "       [7, 2],\n",
              "       [8, 3]])"
            ]
          },
          "metadata": {
            "tags": []
          },
          "execution_count": 7
        }
      ]
    },
    {
      "cell_type": "code",
      "metadata": {
        "id": "PitxqbwfwK5x"
      },
      "source": [
        ""
      ],
      "execution_count": 7,
      "outputs": []
    }
  ]
}
