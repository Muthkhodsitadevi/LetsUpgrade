{
  "nbformat": 4,
  "nbformat_minor": 0,
  "metadata": {
    "colab": {
      "name": "Asmt2.ipynb",
      "provenance": [],
      "collapsed_sections": []
    },
    "kernelspec": {
      "name": "python3",
      "display_name": "Python 3"
    }
  },
  "cells": [
    {
      "cell_type": "markdown",
      "metadata": {
        "id": "rTaJp7rHk1oM"
      },
      "source": [
        "Assignment 2"
      ]
    },
    {
      "cell_type": "code",
      "metadata": {
        "id": "bA3QHwf0mxQA",
        "outputId": "f6ffe4e5-1bbb-445d-b889-e94e37bd0480",
        "colab": {
          "base_uri": "https://localhost:8080/"
        }
      },
      "source": [
        "# Ans 1:\n",
        "li = []\n",
        "nums = list(map(int,input().split()))\n",
        "count = 0\n",
        "for _ in range(10):\n",
        "  for i in nums:\n",
        "    if count<10 and i%2 == 0:\n",
        "      li.append(i)\n",
        "    count += 1\n",
        "li"
      ],
      "execution_count": null,
      "outputs": [
        {
          "output_type": "stream",
          "text": [
            "1 2 3 4 5 6 1 2 4 6 8 2\n"
          ],
          "name": "stdout"
        },
        {
          "output_type": "execute_result",
          "data": {
            "text/plain": [
              "[2, 4, 6, 2, 4, 6]"
            ]
          },
          "metadata": {
            "tags": []
          },
          "execution_count": 18
        }
      ]
    },
    {
      "cell_type": "code",
      "metadata": {
        "id": "R7vFpavalG-z",
        "outputId": "49949fcf-736a-475e-f64e-53bb7bb710cc",
        "colab": {
          "base_uri": "https://localhost:8080/"
        }
      },
      "source": [
        "# Ans 3:\n",
        "d = dict()\n",
        "n = int(input())\n",
        "for i in range(1,n+1):\n",
        "  d[i] = i*i\n",
        "d"
      ],
      "execution_count": null,
      "outputs": [
        {
          "output_type": "stream",
          "text": [
            "5\n"
          ],
          "name": "stdout"
        },
        {
          "output_type": "execute_result",
          "data": {
            "text/plain": [
              "{1: 1, 2: 4, 3: 9, 4: 16, 5: 25}"
            ]
          },
          "metadata": {
            "tags": []
          },
          "execution_count": 19
        }
      ]
    },
    {
      "cell_type": "code",
      "metadata": {
        "id": "b7FECuc7lprm",
        "outputId": "023da38b-3a93-4a78-c50d-c7d442df3695",
        "colab": {
          "base_uri": "https://localhost:8080/"
        }
      },
      "source": [
        "# Ans 4:\n",
        "steps = []\n",
        "dir = int(input())\n",
        "for _ in range(dir):\n",
        "  steps.append(input().split())\n",
        "\n",
        "x=0\n",
        "y=0\n",
        "flag = 1\n",
        "for i in range(dir):\n",
        "  if steps[i][0] == 'UP':\n",
        "    y += int(steps[i][1])\n",
        "  elif steps[i][0] == 'DOWN':\n",
        "    y = y - int(steps[i][1])\n",
        "  elif steps[i][0] == 'RIGHT':\n",
        "    x += int(steps[i][1])\n",
        "  elif steps[i][0] == 'LEFT':\n",
        "    x = x - int(steps[i][1])\n",
        "  else:\n",
        "    print(\"Invalid Input!\")\n",
        "    flag = 0\n",
        "    break\n",
        "if flag:\n",
        "  print(round( (x**2 + y**2) ** 0.5) )"
      ],
      "execution_count": null,
      "outputs": [
        {
          "output_type": "stream",
          "text": [
            "4\n",
            "UP 5\n",
            "DOWN 3\n"
          ],
          "name": "stdout"
        }
      ]
    },
    {
      "cell_type": "code",
      "metadata": {
        "id": "IuL-diC7zOjC"
      },
      "source": [
        ""
      ],
      "execution_count": null,
      "outputs": []
    }
  ]
}