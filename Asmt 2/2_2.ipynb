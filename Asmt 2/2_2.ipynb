{
  "nbformat": 4,
  "nbformat_minor": 0,
  "metadata": {
    "colab": {
      "name": "2.2.ipynb",
      "provenance": []
    },
    "kernelspec": {
      "name": "python3",
      "display_name": "Python 3"
    }
  },
  "cells": [
    {
      "cell_type": "markdown",
      "metadata": {
        "id": "NlGguNbj8594"
      },
      "source": [
        "# Assignment 2.2\n",
        "List Comprehension\n",
        "*   Introduction to lists\n",
        "\n"
      ]
    },
    {
      "cell_type": "code",
      "metadata": {
        "id": "q8ePAzAg81Qf",
        "outputId": "02fb0f77-a260-4e0d-b49d-4a4422ca880b",
        "colab": {
          "base_uri": "https://localhost:8080/"
        }
      },
      "source": [
        "# 1. a list can contain any datatype\n",
        "li = [1, 'a', 1.2, ['a', 2, 2.3], 4-6j]\n",
        "print(li)\n",
        "print(type(li))"
      ],
      "execution_count": 3,
      "outputs": [
        {
          "output_type": "stream",
          "text": [
            "[1, 'a', 1.2, ['a', 2, 2.3], (4-6j)]\n",
            "<class 'list'>\n"
          ],
          "name": "stdout"
        }
      ]
    },
    {
      "cell_type": "code",
      "metadata": {
        "id": "nHZwCNcu9U-A",
        "outputId": "104e8d08-e1e8-421a-8a69-dff13c66d9e7",
        "colab": {
          "base_uri": "https://localhost:8080/"
        }
      },
      "source": [
        "# 2. lists can be indexed and hence sliced\n",
        "print(li[2])\n",
        "print(li[2:4]) # slicing\n",
        "print(li[-2])  # back indexing"
      ],
      "execution_count": 4,
      "outputs": [
        {
          "output_type": "stream",
          "text": [
            "1.2\n",
            "[1.2, ['a', 2, 2.3]]\n",
            "['a', 2, 2.3]\n"
          ],
          "name": "stdout"
        }
      ]
    },
    {
      "cell_type": "code",
      "metadata": {
        "id": "5iNQNpOd9Yev",
        "outputId": "8acb397d-e740-4de5-f3a9-c8f2a1ab644c",
        "colab": {
          "base_uri": "https://localhost:8080/"
        }
      },
      "source": [
        "# 3. list allows duplicates\n",
        "l1 = [1,1,1]\n",
        "print(li)"
      ],
      "execution_count": 5,
      "outputs": [
        {
          "output_type": "stream",
          "text": [
            "[1, 'a', 1.2, ['a', 2, 2.3], (4-6j)]\n"
          ],
          "name": "stdout"
        }
      ]
    },
    {
      "cell_type": "code",
      "metadata": {
        "id": "9mU_m5QB9a0J",
        "outputId": "65f38ece-6580-41eb-d2e2-579b9f83cf88",
        "colab": {
          "base_uri": "https://localhost:8080/"
        }
      },
      "source": [
        "# 4. list is mutable\n",
        "li = [1,2,3,4]\n",
        "print(li)\n",
        "li[2] = 6\n",
        "print(li)"
      ],
      "execution_count": 6,
      "outputs": [
        {
          "output_type": "stream",
          "text": [
            "[1, 2, 3, 4]\n",
            "[1, 2, 6, 4]\n"
          ],
          "name": "stdout"
        }
      ]
    },
    {
      "cell_type": "markdown",
      "metadata": {
        "id": "lmIcZe7U9efC"
      },
      "source": [
        "* list comprehension ways\n",
        "* Syntax: [expression for item in list]"
      ]
    },
    {
      "cell_type": "code",
      "metadata": {
        "id": "4_jIuFl_9jVk",
        "outputId": "539d05b9-3b74-4617-e9b3-4e989b039f67",
        "colab": {
          "base_uri": "https://localhost:8080/"
        }
      },
      "source": [
        "# 1. using 'for' (+nested loop(s))\n",
        "# example: save all characters in the string\n",
        "\n",
        "makelist = [ element for element in 'some string' ]\n",
        "print( makelist)\n",
        "makelist = [ element*3 for element in [1,2,3,4] ]\n",
        "print(makelist)"
      ],
      "execution_count": 7,
      "outputs": [
        {
          "output_type": "stream",
          "text": [
            "['s', 'o', 'm', 'e', ' ', 's', 't', 'r', 'i', 'n', 'g']\n",
            "[3, 6, 9, 12]\n"
          ],
          "name": "stdout"
        }
      ]
    },
    {
      "cell_type": "code",
      "metadata": {
        "id": "h76C5AMo9sOW",
        "outputId": "f4f7f5b5-5672-4c85-fae3-b2161a8cc90b",
        "colab": {
          "base_uri": "https://localhost:8080/"
        }
      },
      "source": [
        "# nested loop case\n",
        "matrix = [[1, 2, 'a'], [3,4,'b'], [5,6,'c']]\n",
        "transpose = [[row[i] for row in matrix] for i in range(len(matrix))]\n",
        "print (transpose)"
      ],
      "execution_count": 8,
      "outputs": [
        {
          "output_type": "stream",
          "text": [
            "[[1, 3, 5], [2, 4, 6], ['a', 'b', 'c']]\n"
          ],
          "name": "stdout"
        }
      ]
    },
    {
      "cell_type": "code",
      "metadata": {
        "id": "4DO4G6az9uWd",
        "outputId": "a31a22d4-6f36-4f5f-de8d-bfabee28bb16",
        "colab": {
          "base_uri": "https://localhost:8080/"
        }
      },
      "source": [
        "# 2. using 'if' conditional (+nested if-else)\n",
        "# example: save if element is even\n",
        "numlist = [ x for x in range(20) if x % 2 == 0]\n",
        "print(numlist)"
      ],
      "execution_count": 9,
      "outputs": [
        {
          "output_type": "stream",
          "text": [
            "[0, 2, 4, 6, 8, 10, 12, 14, 16, 18]\n"
          ],
          "name": "stdout"
        }
      ]
    },
    {
      "cell_type": "code",
      "metadata": {
        "id": "ALBLNy589wD6",
        "outputId": "db688e78-cb72-432b-c60f-e5e3e284f577",
        "colab": {
          "base_uri": "https://localhost:8080/"
        }
      },
      "source": [
        "# nested if case\n",
        "# example: save to list if element is divisible by 2 and 3 both\n",
        "numlist = [y for y in range(60) if y % 2 == 0 if y % 3 == 0]\n",
        "print(numlist)"
      ],
      "execution_count": 10,
      "outputs": [
        {
          "output_type": "stream",
          "text": [
            "[0, 6, 12, 18, 24, 30, 36, 42, 48, 54]\n"
          ],
          "name": "stdout"
        }
      ]
    },
    {
      "cell_type": "code",
      "metadata": {
        "id": "sb5J7sAf9x1a",
        "outputId": "94f258ae-ec63-486c-fac4-97da7d05eb6a",
        "colab": {
          "base_uri": "https://localhost:8080/"
        }
      },
      "source": [
        "# nested if-else case\n",
        "some_list = [2,9,3,5,7,6,4,4,71,23,54,66]\n",
        "rand_list = [\"even\" if i%2==0 else \"odd\" for i in some_list]\n",
        "print(some_list)\n",
        "print(rand_list)"
      ],
      "execution_count": 11,
      "outputs": [
        {
          "output_type": "stream",
          "text": [
            "[2, 9, 3, 5, 7, 6, 4, 4, 71, 23, 54, 66]\n",
            "['even', 'odd', 'odd', 'odd', 'odd', 'even', 'even', 'even', 'odd', 'odd', 'even', 'even']\n"
          ],
          "name": "stdout"
        }
      ]
    },
    {
      "cell_type": "code",
      "metadata": {
        "id": "6QXogTQj97uJ"
      },
      "source": [
        ""
      ],
      "execution_count": 11,
      "outputs": []
    }
  ]
}